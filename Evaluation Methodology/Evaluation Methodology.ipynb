{
 "cells": [
  {
   "cell_type": "code",
   "execution_count": 2,
   "id": "34eefac1-98be-4b09-914f-e99676a99cc0",
   "metadata": {},
   "outputs": [
    {
     "name": "stdout",
     "output_type": "stream",
     "text": [
      "Simile Precision: 0.8962, Recall: 0.9500\n",
      "Tenor Precision: 0.7160, Recall: 0.7945\n",
      "Vehicle Precision: 0.8155, Recall: 0.8571\n",
      "Shared Property Precision: 0.0000, Recall: 0.0000\n"
     ]
    }
   ],
   "source": [
    "import pandas as pd\n",
    "import string\n",
    "\n",
    "# Function to clean the text: remove punctuation and convert to lower case\n",
    "def clean_text(text):\n",
    "    if pd.isna(text):\n",
    "        return text\n",
    "    # Lowercase the text\n",
    "    text = text.lower()\n",
    "    # Remove punctuation\n",
    "    text = text.translate(str.maketrans('', '', string.punctuation))\n",
    "    # Remove extra spaces\n",
    "    text = text.strip()\n",
    "    return text\n",
    "\n",
    "# Load the files\n",
    "annotated_corpus_path = 'annotated_corpus.xlsx'\n",
    "similes_output_path = 'similes_output.csv'\n",
    "\n",
    "# Read the files\n",
    "annotated_df = pd.read_excel(annotated_corpus_path)\n",
    "similes_output_df = pd.read_csv(similes_output_path)\n",
    "\n",
    "# Clean the \"Simile\" columns in both dataframes\n",
    "annotated_df['Simile_clean'] = annotated_df['Simile'].apply(clean_text)\n",
    "similes_output_df['Simile_clean'] = similes_output_df['Simile'].apply(clean_text)\n",
    "\n",
    "# Clean the \"Tenor\", \"Vehicle\", and \"Shared_property\" columns\n",
    "annotated_df['Tenor_clean'] = annotated_df['Tenor'].apply(clean_text)\n",
    "annotated_df['Vehicle_clean'] = annotated_df['Vehicle'].apply(clean_text)\n",
    "annotated_df['Shared_property_clean'] = annotated_df['Shared_property'].apply(clean_text)\n",
    "\n",
    "similes_output_df['Tenor_clean'] = similes_output_df['Tenor'].apply(clean_text)\n",
    "similes_output_df['Vehicle_clean'] = similes_output_df['Vehicle'].apply(clean_text)\n",
    "similes_output_df['Shared Property_clean'] = similes_output_df['Shared Property'].apply(clean_text)\n",
    "\n",
    "# Function to calculate precision and recall for a specific column\n",
    "def calculate_precision_recall(annotated, output):\n",
    "    annotated_set = set(annotated)\n",
    "    output_set = set(output)\n",
    "    \n",
    "    true_positives = annotated_set.intersection(output_set)\n",
    "    false_positives = output_set - annotated_set\n",
    "    false_negatives = annotated_set - output_set\n",
    "    \n",
    "    precision = len(true_positives) / (len(true_positives) + len(false_positives)) if (len(true_positives) + len(false_positives)) > 0 else 0\n",
    "    recall = len(true_positives) / (len(false_negatives) + len(true_positives)) if (len(true_positives) + len(false_negatives)) > 0 else 0\n",
    "    \n",
    "    return precision, recall\n",
    "\n",
    "# Calculate precision and recall for each component\n",
    "simile_precision, simile_recall = calculate_precision_recall(annotated_df['Simile_clean'], similes_output_df['Simile_clean'])\n",
    "tenor_precision, tenor_recall = calculate_precision_recall(annotated_df['Tenor_clean'], similes_output_df['Tenor_clean'])\n",
    "vehicle_precision, vehicle_recall = calculate_precision_recall(annotated_df['Vehicle_clean'], similes_output_df['Vehicle_clean'])\n",
    "shared_property_precision, shared_property_recall = calculate_precision_recall(annotated_df['Shared_property_clean'], similes_output_df['Shared Property_clean'])\n",
    "\n",
    "# Print the results\n",
    "print(f'Simile Precision: {simile_precision:.4f}, Recall: {simile_recall:.4f}')\n",
    "print(f'Tenor Precision: {tenor_precision:.4f}, Recall: {tenor_recall:.4f}')\n",
    "print(f'Vehicle Precision: {vehicle_precision:.4f}, Recall: {vehicle_recall:.4f}')\n",
    "print(f'Shared Property Precision: {shared_property_precision:.4f}, Recall: {shared_property_recall:.4f}')\n"
   ]
  },
  {
   "cell_type": "code",
   "execution_count": null,
   "id": "6542a833-f750-4c59-ad32-01628fcbdb47",
   "metadata": {},
   "outputs": [],
   "source": []
  }
 ],
 "metadata": {
  "kernelspec": {
   "display_name": "Python 3 (ipykernel)",
   "language": "python",
   "name": "python3"
  },
  "language_info": {
   "codemirror_mode": {
    "name": "ipython",
    "version": 3
   },
   "file_extension": ".py",
   "mimetype": "text/x-python",
   "name": "python",
   "nbconvert_exporter": "python",
   "pygments_lexer": "ipython3",
   "version": "3.11.4"
  }
 },
 "nbformat": 4,
 "nbformat_minor": 5
}
