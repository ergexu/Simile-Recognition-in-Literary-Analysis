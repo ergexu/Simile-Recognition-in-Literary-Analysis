{
 "cells": [
  {
   "cell_type": "code",
   "execution_count": 1,
   "id": "65d105b8-45b6-4895-8f93-6b5ab49c50b9",
   "metadata": {},
   "outputs": [],
   "source": [
    "import pandas as pd\n",
    "from gensim.models import KeyedVectors\n",
    "import gensim.downloader as api\n",
    "import re\n",
    "\n",
    "# Load Word2Vec model\n",
    "model = api.load('word2vec-google-news-300')\n",
    "\n",
    "# Read CSV file\n",
    "input_csv_path = 'simile_result.csv'\n",
    "df = pd.read_csv(input_csv_path)\n",
    "\n",
    "# Clean the data\n",
    "def preprocess_text(text):\n",
    "    if pd.isna(text):\n",
    "        return ''\n",
    "    # Delete punctuation\n",
    "    text = re.sub(r'[^\\w\\s]', '', str(text))\n",
    "    text = text.lower()\n",
    "    return text\n",
    "\n",
    "# Clean Tenor and Vehicle columns\n",
    "df['Tenor'] = df['Tenor'].apply(preprocess_text)\n",
    "df['Vehicle'] = df['Vehicle'].apply(preprocess_text)\n",
    "\n",
    "# Calculate semantic similarity\n",
    "def calculate_similarity(row):\n",
    "    tenor = row['Tenor']\n",
    "    vehicle = row['Vehicle']\n",
    "    try:\n",
    "        return model.similarity(tenor, vehicle)\n",
    "    except KeyError:\n",
    "        return 0.0\n",
    "\n",
    "df['Creative Score'] = df.apply(calculate_similarity, axis=1)\n",
    "\n",
    "# Save the result\n",
    "output_csv_path = 'final_result.csv'\n",
    "df.to_csv(output_csv_path, index=False)\n"
   ]
  },
  {
   "cell_type": "code",
   "execution_count": null,
   "id": "75574712-a18e-4de8-809a-090aa4a4934f",
   "metadata": {},
   "outputs": [],
   "source": []
  }
 ],
 "metadata": {
  "kernelspec": {
   "display_name": "Python 3 (ipykernel)",
   "language": "python",
   "name": "python3"
  },
  "language_info": {
   "codemirror_mode": {
    "name": "ipython",
    "version": 3
   },
   "file_extension": ".py",
   "mimetype": "text/x-python",
   "name": "python",
   "nbconvert_exporter": "python",
   "pygments_lexer": "ipython3",
   "version": "3.11.4"
  }
 },
 "nbformat": 4,
 "nbformat_minor": 5
}
